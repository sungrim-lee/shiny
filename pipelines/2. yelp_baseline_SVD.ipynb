{
 "cells": [
  {
   "cell_type": "code",
   "execution_count": 1,
   "id": "493a1569",
   "metadata": {},
   "outputs": [],
   "source": [
    "import json\n",
    "import pandas as pd\n",
    "import numpy as np\n",
    "\n",
    "from sklearn.model_selection import RandomizedSearchCV\n",
    "from sklearn.preprocessing import LabelEncoder\n",
    "from functools import reduce\n",
    "\n",
    "from surprise import Reader, Dataset, KNNBasic, SVD, NMF, accuracy\n",
    "from surprise.model_selection import GridSearchCV, cross_validate\n",
    "\n",
    "import warnings\n",
    "\n",
    "import YelpCleanData as cd # User Defined\n",
    "\n",
    "warnings.simplefilter('ignore')\n",
    "color = '#539ecd'"
   ]
  },
  {
   "cell_type": "code",
   "execution_count": 11,
   "id": "270d2566",
   "metadata": {},
   "outputs": [],
   "source": [
    "# def split_most_recent(df, col='user_id'):\n",
    "#     user_date = df.loc[:, [col,'date']]\n",
    "#     user_date['date'] = pd.to_datetime(user_date['date'])\n",
    "    \n",
    "#     recent_idx = user_date[user_date.groupby([col], sort=False)['date'].transform(max) == user_date['date']].index\n",
    "#     recent_df = df.iloc[recent_idx].reset_index(drop=True)\n",
    "#     previous_df = df[~df.index.isin(recent_idx)].reset_index(drop=True)\n",
    "#     return previous_df, recent_df"
   ]
  },
  {
   "cell_type": "code",
   "execution_count": 21,
   "id": "85923908",
   "metadata": {},
   "outputs": [],
   "source": [
    "def generate_surprise_train_test(trainDf, testDf, scale=(1.0, 5.0), cols=['user_id','business_id','stars']):\n",
    "    reader = Reader(rating_scale=scale)\n",
    "    train_data = Dataset.load_from_df(trainDf[cols], reader=reader)\n",
    "    test_data = Dataset.load_from_df(testDf[cols], reader=reader)\n",
    "    \n",
    "    train = train_data.build_full_trainset()\n",
    "    test_pre = test_data.build_full_trainset()\n",
    "    test = test_pre.build_testset()\n",
    "    return train, test"
   ]
  },
  {
   "cell_type": "code",
   "execution_count": 4,
   "id": "1e2acc29",
   "metadata": {},
   "outputs": [
    {
     "data": {
      "text/plain": [
       "(4712, 4409)"
      ]
     },
     "execution_count": 4,
     "metadata": {},
     "output_type": "execute_result"
    }
   ],
   "source": [
    "df_city_review = cd.load_data('yelp_dataset/city_review.csv')\n",
    "thres_user_id = cd.select_index_with_thres(df_city_review, 'user_id', 20)\n",
    "thres_buss_id = cd.select_index_with_thres(df_city_review, 'business_id', 20)\n",
    "non_sparse_df = cd.filter_index(df_city_review, [['user_id',thres_user_id], ['business_id',thres_buss_id]])\n",
    "user_business_df = cd.reset_index_cols(non_sparse_df, ['user_id','business_id','stars','date'])"
   ]
  },
  {
   "cell_type": "code",
   "execution_count": 12,
   "id": "32a9f8e2",
   "metadata": {},
   "outputs": [],
   "source": [
    "train_df, test_df = cd.split_most_recent(user_business_df)"
   ]
  },
  {
   "cell_type": "code",
   "execution_count": 22,
   "id": "13691eaf",
   "metadata": {},
   "outputs": [],
   "source": [
    "train, test = generate_surprise_train_test(train_df, test_df)"
   ]
  },
  {
   "cell_type": "code",
   "execution_count": 173,
   "id": "610254eb",
   "metadata": {},
   "outputs": [
    {
     "name": "stdout",
     "output_type": "stream",
     "text": [
      "Best Score : 0.9819518064920245\n",
      "Best Parameters : {'n_epochs': 50, 'n_factors': 10, 'lr_all': 0.003, 'reg_all': 0.1}\n"
     ]
    }
   ],
   "source": [
    "# param_grid = {'n_epochs' : [10, 50, 100], 'n_factors' : [10, 50, 100], \n",
    "#               'lr_all' : [0.003, 0.01, 0.03], 'reg_all' : [0.01, 0.04, 0.1]}\n",
    "\n",
    "# grid_cv = GridSearchCV(algo_class=SVD, measures=['RMSE'], param_grid=param_grid)\n",
    "# grid_cv.fit(train_data)\n",
    "\n",
    "\n",
    "# # Best rmse score and params\n",
    "# print('Best Score :', grid_cv.best_score['rmse'])\n",
    "# print('Best Parameters :', grid_cv.best_params['rmse'])"
   ]
  },
  {
   "cell_type": "code",
   "execution_count": 34,
   "id": "a00649e1",
   "metadata": {},
   "outputs": [
    {
     "data": {
      "text/plain": [
       "<surprise.prediction_algorithms.matrix_factorization.SVD at 0x7f00308359f0>"
      ]
     },
     "execution_count": 34,
     "metadata": {},
     "output_type": "execute_result"
    }
   ],
   "source": [
    "# Train Model\n",
    "algo = SVD()\n",
    "algo.fit(train)"
   ]
  },
  {
   "cell_type": "code",
   "execution_count": 35,
   "id": "3d92d7d9",
   "metadata": {},
   "outputs": [
    {
     "name": "stdout",
     "output_type": "stream",
     "text": [
      "RMSE: 1.1338\n"
     ]
    },
    {
     "data": {
      "text/plain": [
       "1.133766876071366"
      ]
     },
     "execution_count": 35,
     "metadata": {},
     "output_type": "execute_result"
    }
   ],
   "source": [
    "# Test & Evaluate\n",
    "preds = algo.test(test)\n",
    "accuracy.rmse(preds)"
   ]
  }
 ],
 "metadata": {
  "kernelspec": {
   "display_name": "Python 3 (ipykernel)",
   "language": "python",
   "name": "python3"
  },
  "language_info": {
   "codemirror_mode": {
    "name": "ipython",
    "version": 3
   },
   "file_extension": ".py",
   "mimetype": "text/x-python",
   "name": "python",
   "nbconvert_exporter": "python",
   "pygments_lexer": "ipython3",
   "version": "3.9.12"
  }
 },
 "nbformat": 4,
 "nbformat_minor": 5
}
